{
 "cells": [
  {
   "cell_type": "markdown",
   "id": "9252034b-5306-4092-9666-8744b2d7d5d6",
   "metadata": {},
   "source": [
    "\"Web Scraping\""
   ]
  },
  {
   "cell_type": "code",
   "execution_count": 3,
   "id": "15586e4d-d09f-49fd-9eca-b80a9c9290ac",
   "metadata": {},
   "outputs": [
    {
     "name": "stdout",
     "output_type": "stream",
     "text": [
      "1.\"“The world as we have created it is a process of our thinking. It cannot be changed without changing our thinking.”\" - Albert Einstein\n",
      "Tags:change,deep-thoughts,thinking,world\n",
      "\n",
      "2.\"“It is our choices, Harry, that show what we truly are, far more than our abilities.”\" - J.K. Rowling\n",
      "Tags:abilities,choices\n",
      "\n",
      "3.\"“There are only two ways to live your life. One is as though nothing is a miracle. The other is as though everything is a miracle.”\" - Albert Einstein\n",
      "Tags:inspirational,life,live,miracle,miracles\n",
      "\n",
      "4.\"“The person, be it gentleman or lady, who has not pleasure in a good novel, must be intolerably stupid.”\" - Jane Austen\n",
      "Tags:aliteracy,books,classic,humor\n",
      "\n",
      "5.\"“Imperfection is beauty, madness is genius and it's better to be absolutely ridiculous than absolutely boring.”\" - Marilyn Monroe\n",
      "Tags:be-yourself,inspirational\n",
      "\n"
     ]
    }
   ],
   "source": [
    "import requests\n",
    "from bs4 import BeautifulSoup\n",
    "\n",
    "url = \"https://quotes.toscrape.com/\"\n",
    "\n",
    "response = requests.get(url)\n",
    "if response.status_code == 200:\n",
    "    soup = BeautifulSoup(response.text,'html.parser')\n",
    "    quotes = soup.find_all(\"div\",class_=\"quote\")\n",
    "    for i,quote in enumerate(quotes[:5]):\n",
    "        text = quote.find(\"span\",class_=\"text\").text\n",
    "        author = quote.find(\"small\",class_=\"author\").text\n",
    "        tags = [tag.text for tag in quote.find_all(\"a\",class_='tag')]\n",
    "        print(f\"{i+1}.\\\"{text}\\\" - {author}\")\n",
    "        print(f\"Tags:{','.join(tags)}\\n\")\n",
    "else:\n",
    "    print(f\"Failed to retrieve . status code: {response.status_code}\")"
   ]
  },
  {
   "cell_type": "code",
   "execution_count": 15,
   "id": "718f6c06-4ad0-4f1c-b6ed-ff462423ca63",
   "metadata": {},
   "outputs": [
    {
     "name": "stdout",
     "output_type": "stream",
     "text": [
      "Current Weather in Hyderabad:33 °C|Clear.\n"
     ]
    }
   ],
   "source": [
    "city = \"india/hyderabad\"\n",
    "url = f\"https://www.timeanddate.com/weather/{city}\"\n",
    "response = requests.get(url)\n",
    "soup = BeautifulSoup(response.text,'html.parser')\n",
    "\n",
    "temp = soup.find(\"div\",class_=\"h2\").text.strip() if soup.find(\"div\",class_=\"h2\") else \"N/A\"\n",
    "\n",
    "desc = soup.find(\"p\").text.strip() if soup.find(\"p\") else \"N/A\"\n",
    "\n",
    "print(f\"Current Weather in Hyderabad:{temp}|{desc}\")"
   ]
  },
  {
   "cell_type": "code",
   "execution_count": 16,
   "id": "1653caff-622c-48ef-a6a9-723c74031e1a",
   "metadata": {},
   "outputs": [
    {
     "name": "stdout",
     "output_type": "stream",
     "text": [
      "Product: Life is easier on iPhone.\n",
      "Price: Rs.61,499\n"
     ]
    }
   ],
   "source": [
    "#searchurl\n",
    "search_url = \"https://www.amazon.in/s?k=iphone&crid=PQVCJSNISAH4&sprefix=iphone%2Caps%2C233&ref=nb_sb_noss_2s\"\n",
    "headers = {\n",
    "    \"User-Agent\":\"Mozilla/5.0(Windows NT 10.0;Win64;x64) AppleWebKit/537.36(KHTML,like Gecko) Chrome/91.0.4472.12 Safari/537.36\"\n",
    "}\n",
    "response = requests.get(search_url,headers = headers)\n",
    "soup = BeautifulSoup(response.text,\"html.parser\")\n",
    "product = soup.select_one(\"span.a-size-medium\")\n",
    "price = soup.select_one(\"span.a-price-whole\")\n",
    "\n",
    "if product and price:\n",
    "    print(f\"Product: {product.text.strip()}\")\n",
    "    print(f\"Price: Rs.{price.text.strip()}\")\n",
    "else:\n",
    "    print(\"could not find product details.\")"
   ]
  },
  {
   "cell_type": "code",
   "execution_count": null,
   "id": "76c4136e-6c3e-459d-8688-60722c46d762",
   "metadata": {},
   "outputs": [],
   "source": [
    "url = \"https://en.wikipedia.org/wiki/List_of_countries_and_dependencies_by_population\"\n",
    "response = requests.get(url,headers = headers)\n",
    "soup = BeautifulSoup(response.text,'html.parser')\n",
    "table = soup.find(\"table\",class_=\"wikitable\")\n",
    "for row in table.find_all(\"tr\")[1:6]:\n",
    "    columns = row.find_all(\"td\")\n",
    "    country = columns[1].text.strip()\n",
    "    population = columns[2].text.strip()\n",
    "    print(f\""
   ]
  }
 ],
 "metadata": {
  "kernelspec": {
   "display_name": "Python 3 (ipykernel)",
   "language": "python",
   "name": "python3"
  },
  "language_info": {
   "codemirror_mode": {
    "name": "ipython",
    "version": 3
   },
   "file_extension": ".py",
   "mimetype": "text/x-python",
   "name": "python",
   "nbconvert_exporter": "python",
   "pygments_lexer": "ipython3",
   "version": "3.11.7"
  }
 },
 "nbformat": 4,
 "nbformat_minor": 5
}
