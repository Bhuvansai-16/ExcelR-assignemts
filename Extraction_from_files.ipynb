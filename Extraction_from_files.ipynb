{
 "cells": [
  {
   "cell_type": "code",
   "execution_count": 1,
   "id": "c408d54d-c654-48e8-868a-824ebf094975",
   "metadata": {},
   "outputs": [
    {
     "name": "stdout",
     "output_type": "stream",
     "text": [
      "Collecting python-docx\n",
      "  Downloading python_docx-1.1.2-py3-none-any.whl.metadata (2.0 kB)\n",
      "Requirement already satisfied: lxml>=3.1.0 in c:\\users\\bhuvansai\\anaconda3\\lib\\site-packages (from python-docx) (4.9.3)\n",
      "Requirement already satisfied: typing-extensions>=4.9.0 in c:\\users\\bhuvansai\\anaconda3\\lib\\site-packages (from python-docx) (4.9.0)\n",
      "Downloading python_docx-1.1.2-py3-none-any.whl (244 kB)\n",
      "   ---------------------------------------- 0.0/244.3 kB ? eta -:--:--\n",
      "   ---------------------------------------- 0.0/244.3 kB ? eta -:--:--\n",
      "   - -------------------------------------- 10.2/244.3 kB ? eta -:--:--\n",
      "   --------- ----------------------------- 61.4/244.3 kB 656.4 kB/s eta 0:00:01\n",
      "   ----------------------- ---------------- 143.4/244.3 kB 1.2 MB/s eta 0:00:01\n",
      "   ---------------------------------------- 244.3/244.3 kB 1.5 MB/s eta 0:00:00\n",
      "Installing collected packages: python-docx\n",
      "Successfully installed python-docx-1.1.2\n"
     ]
    }
   ],
   "source": [
    "!pip install python-docx"
   ]
  },
  {
   "cell_type": "code",
   "execution_count": 29,
   "id": "eb082593-883f-44b3-bff5-25a19872354d",
   "metadata": {},
   "outputs": [],
   "source": [
    "import docx\n",
    "doc = open('bioluminescence.docx','rb')"
   ]
  },
  {
   "cell_type": "code",
   "execution_count": 30,
   "id": "2a9fcee4-4883-430c-a840-44929300b4f6",
   "metadata": {},
   "outputs": [
    {
     "name": "stdout",
     "output_type": "stream",
     "text": [
      "The Fascinating World of BioluminescenceBioluminescence is one of nature's most captivating phenomena, where living organisms produce and emit light. This remarkable ability can be observed in various species, including fireflies, deep-sea fish, and certain fungi. The light produced results from a chemical reaction involving a light-emitting molecule called luciferin and an enzyme called luciferase.How Does Bioluminescence Work?Bioluminescence occurs when luciferin reacts with oxygen, often facilitated by luciferase, resulting in the emission of light. Some organisms, such as certain jellyfish, use different proteins, like green fluorescent protein (GFP), to modify the color of their glow.Where Can Bioluminescence Be Found?Bioluminescent organisms are mostly found in the deep sea, where sunlight does not penetrate. However, they also exist in terrestrial environments, such as forests where glow-in-the-dark fungi grow. Fireflies, for instance, use bioluminescence for communication and mating.Why Do Organisms Glow?- Attracting Prey: Some fish, like the anglerfish, use their light to lure prey.\n",
      "- Communication: Fireflies flash patterns to communicate with potential mates.\n",
      "- Defense Mechanism: Certain squids release glowing particles to confuse predators.Bioluminescence in Human ApplicationsScientists are exploring bioluminescence for applications in medicine, environmental monitoring, and even creating sustainable lighting solutions. For example, researchers are investigating how bioluminescent bacteria can be used in bioengineered streetlights.ConclusionThe world of bioluminescence is both fascinating and mysterious. As research continues, we may discover even more ways to harness this natural wonder for the benefit of humanity.\n"
     ]
    }
   ],
   "source": [
    "docu = \"\"\n",
    "for para in document.paragraphs:\n",
    "    docu += para.text\n",
    "\n",
    "print(docu)"
   ]
  },
  {
   "cell_type": "code",
   "execution_count": 28,
   "id": "7823f276-c644-404a-9397-5c5ba03fd2b7",
   "metadata": {},
   "outputs": [
    {
     "name": "stdout",
     "output_type": "stream",
     "text": [
      "The Fascinating World of Bioluminescence\n",
      "Bioluminescence is one of nature's most captivating phenomena, where living organisms produce and emit light. This remarkable ability can be observed in various species, including fireflies, deep-sea fish, and certain fungi. The light produced results from a chemical reaction involving a light-emitting molecule called luciferin and an enzyme called luciferase.\n",
      "How Does Bioluminescence Work?\n",
      "Bioluminescence occurs when luciferin reacts with oxygen, often facilitated by luciferase, resulting in the emission of light. Some organisms, such as certain jellyfish, use different proteins, like green fluorescent protein (GFP), to modify the color of their glow.\n",
      "Where Can Bioluminescence Be Found?\n",
      "Bioluminescent organisms are mostly found in the deep sea, where sunlight does not penetrate. However, they also exist in terrestrial environments, such as forests where glow-in-the-dark fungi grow. Fireflies, for instance, use bioluminescence for communication and mating.\n",
      "Why Do Organisms Glow?\n",
      "- Attracting Prey: Some fish, like the anglerfish, use their light to lure prey.\n",
      "- Communication: Fireflies flash patterns to communicate with potential mates.\n",
      "- Defense Mechanism: Certain squids release glowing particles to confuse predators.\n",
      "Bioluminescence in Human Applications\n",
      "Scientists are exploring bioluminescence for applications in medicine, environmental monitoring, and even creating sustainable lighting solutions. For example, researchers are investigating how bioluminescent bacteria can be used in bioengineered streetlights.\n",
      "Conclusion\n",
      "The world of bioluminescence is both fascinating and mysterious. As research continues, we may discover even more ways to harness this natural wonder for the benefit of humanity.\n",
      "\n"
     ]
    }
   ],
   "source": [
    "import docx\n",
    "\n",
    "# Load the DOCX file correctly\n",
    "document = docx.Document(\"bioluminescence.docx.\")\n",
    "\n",
    "# Initialize an empty string to store text\n",
    "docu = \"\"\n",
    "\n",
    "# Iterate through all paragraphs and concatenate text\n",
    "for para in document.paragraphs:\n",
    "    docu += para.text + \"\\n\"  # Adding newline for readability\n",
    "\n",
    "# Print the extracted text\n",
    "print(docu)\n"
   ]
  },
  {
   "cell_type": "code",
   "execution_count": 31,
   "id": "6b4ae897-fc1e-4019-8921-8ae99ef75e15",
   "metadata": {},
   "outputs": [
    {
     "name": "stdout",
     "output_type": "stream",
     "text": [
      "Collecting bs4\n",
      "  Downloading bs4-0.0.2-py2.py3-none-any.whl.metadata (411 bytes)\n",
      "Requirement already satisfied: beautifulsoup4 in c:\\users\\bhuvansai\\anaconda3\\lib\\site-packages (from bs4) (4.12.2)\n",
      "Requirement already satisfied: soupsieve>1.2 in c:\\users\\bhuvansai\\anaconda3\\lib\\site-packages (from beautifulsoup4->bs4) (2.5)\n",
      "Downloading bs4-0.0.2-py2.py3-none-any.whl (1.2 kB)\n",
      "Installing collected packages: bs4\n",
      "Successfully installed bs4-0.0.2\n"
     ]
    }
   ],
   "source": [
    "!pip install bs4"
   ]
  },
  {
   "cell_type": "code",
   "execution_count": 34,
   "id": "ca233ace-4263-4152-89ed-a1bbe70214ed",
   "metadata": {},
   "outputs": [],
   "source": [
    "import urllib.request as urllib2\n",
    "from bs4 import BeautifulSoup"
   ]
  },
  {
   "cell_type": "code",
   "execution_count": 35,
   "id": "d783203c-86b5-49ec-8873-7c2d9e222ceb",
   "metadata": {},
   "outputs": [],
   "source": [
    "response = urllib2.urlopen('https://en.wikipedia.org/wiki/Natural_language_processing')\n",
    "html_doc = response.read()"
   ]
  },
  {
   "cell_type": "code",
   "execution_count": null,
   "id": "1789d941-e342-4100-af7d-b03680c588db",
   "metadata": {},
   "outputs": [],
   "source": []
  }
 ],
 "metadata": {
  "kernelspec": {
   "display_name": "Python 3 (ipykernel)",
   "language": "python",
   "name": "python3"
  },
  "language_info": {
   "codemirror_mode": {
    "name": "ipython",
    "version": 3
   },
   "file_extension": ".py",
   "mimetype": "text/x-python",
   "name": "python",
   "nbconvert_exporter": "python",
   "pygments_lexer": "ipython3",
   "version": "3.11.7"
  }
 },
 "nbformat": 4,
 "nbformat_minor": 5
}
