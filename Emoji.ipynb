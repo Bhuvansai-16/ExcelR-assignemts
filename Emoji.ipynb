{
 "cells": [
  {
   "cell_type": "code",
   "execution_count": 1,
   "id": "f0b4353c-cd30-4b85-8f6a-9ca00730ce46",
   "metadata": {},
   "outputs": [
    {
     "name": "stdout",
     "output_type": "stream",
     "text": [
      "Collecting emot\n",
      "  Downloading emot-3.1-py3-none-any.whl.metadata (396 bytes)\n",
      "Downloading emot-3.1-py3-none-any.whl (61 kB)\n",
      "   ---------------------------------------- 0.0/61.5 kB ? eta -:--:--\n",
      "   ---------------------------------------- 0.0/61.5 kB ? eta -:--:--\n",
      "   ---------------------------------------- 0.0/61.5 kB ? eta -:--:--\n",
      "   ---------------------------------------- 0.0/61.5 kB ? eta -:--:--\n",
      "   ---------------------------------------- 0.0/61.5 kB ? eta -:--:--\n",
      "   ---------------------------------------- 0.0/61.5 kB ? eta -:--:--\n",
      "   ---------------------------------------- 0.0/61.5 kB ? eta -:--:--\n",
      "   ---------------------------------------- 0.0/61.5 kB ? eta -:--:--\n",
      "   ---------------------------------------- 0.0/61.5 kB ? eta -:--:--\n",
      "   ------ --------------------------------- 10.2/61.5 kB ? eta -:--:--\n",
      "   ------ --------------------------------- 10.2/61.5 kB ? eta -:--:--\n",
      "   ------ --------------------------------- 10.2/61.5 kB ? eta -:--:--\n",
      "   ------ --------------------------------- 10.2/61.5 kB ? eta -:--:--\n",
      "   ------ --------------------------------- 10.2/61.5 kB ? eta -:--:--\n",
      "   ------ --------------------------------- 10.2/61.5 kB ? eta -:--:--\n",
      "   ------ --------------------------------- 10.2/61.5 kB ? eta -:--:--\n",
      "   ------ --------------------------------- 10.2/61.5 kB ? eta -:--:--\n",
      "   ------------- -------------------------- 20.5/61.5 kB 27.3 kB/s eta 0:00:02\n",
      "   ------------- -------------------------- 20.5/61.5 kB 27.3 kB/s eta 0:00:02\n",
      "   ------------- -------------------------- 20.5/61.5 kB 27.3 kB/s eta 0:00:02\n",
      "   ------------- -------------------------- 20.5/61.5 kB 27.3 kB/s eta 0:00:02\n",
      "   ------------- -------------------------- 20.5/61.5 kB 27.3 kB/s eta 0:00:02\n",
      "   ------------- -------------------------- 20.5/61.5 kB 27.3 kB/s eta 0:00:02\n",
      "   ------------------- -------------------- 30.7/61.5 kB 31.2 kB/s eta 0:00:01\n",
      "   ------------------- -------------------- 30.7/61.5 kB 31.2 kB/s eta 0:00:01\n",
      "   ------------------- -------------------- 30.7/61.5 kB 31.2 kB/s eta 0:00:01\n",
      "   -------------------------- ------------- 41.0/61.5 kB 37.8 kB/s eta 0:00:01\n",
      "   -------------------------- ------------- 41.0/61.5 kB 37.8 kB/s eta 0:00:01\n",
      "   --------------------------------- ------ 51.2/61.5 kB 44.4 kB/s eta 0:00:01\n",
      "   --------------------------------- ------ 51.2/61.5 kB 44.4 kB/s eta 0:00:01\n",
      "   ---------------------------------------- 61.5/61.5 kB 50.5 kB/s eta 0:00:00\n",
      "Installing collected packages: emot\n",
      "Successfully installed emot-3.1\n"
     ]
    }
   ],
   "source": [
    "#Dealing with emojis\n",
    "!pip install emot"
   ]
  },
  {
   "cell_type": "code",
   "execution_count": 2,
   "id": "3f55dddf-726b-416f-b6c2-fbfc6562ac76",
   "metadata": {},
   "outputs": [],
   "source": [
    "text = \"What are you saying 😂, I am the boss 😎, and why are you so 😒\""
   ]
  },
  {
   "cell_type": "code",
   "execution_count": 3,
   "id": "9cfbfd2a-87db-4b20-bd62-c7d6dbfdcca1",
   "metadata": {},
   "outputs": [],
   "source": [
    "import re\n",
    "from emot.emo_unicode import UNICODE_EMOJI\n",
    "from emot.emo_unicode import EMOTICONS_EMO"
   ]
  },
  {
   "cell_type": "code",
   "execution_count": 5,
   "id": "47dfbf96-c35d-4151-a67e-e13bd7d05222",
   "metadata": {},
   "outputs": [
    {
     "data": {
      "text/plain": [
       "'What are you saying face_with_tears_of_joy, I am the boss smiling_face_with_sunglasses, and why are you so unamused_face'"
      ]
     },
     "execution_count": 5,
     "metadata": {},
     "output_type": "execute_result"
    }
   ],
   "source": [
    "def emoji_converter(text):\n",
    "    for emot in UNICODE_EMOJI:\n",
    "        text = text.replace(emot,\"_\".join(UNICODE_EMOJI[emot].replace(\",\",\"\").replace(\":\",\"\").split()))\n",
    "    return text\n",
    "\n",
    "emoji_converter(text)"
   ]
  },
  {
   "cell_type": "code",
   "execution_count": 7,
   "id": "86e4818a-fc3c-4ebe-9f42-0e970560d41c",
   "metadata": {},
   "outputs": [
    {
     "data": {
      "text/plain": [
       "'What are you saying , I am the boss , and why are you so '"
      ]
     },
     "execution_count": 7,
     "metadata": {},
     "output_type": "execute_result"
    }
   ],
   "source": [
    "def emoji_removal(string):\n",
    "    emoji_unicodes = re.compile(\"[\"\n",
    "        u\"\\\\U0001F600-\\\\U0001F64F\"  # emoticons\n",
    "        u\"\\\\U0001F300-\\\\U0001F5FF\"  # symbols\n",
    "        u\"\\\\U0001F680-\\\\U0001F6FF\"  # transport\n",
    "        u\"\\\\U0001F1E0-\\\\U0001F1FF\"  # flags (iOS)\n",
    "        u\"\\\\U00002500-\\\\U00002BEF\"\n",
    "        u\"\\\\U00002702-\\\\U000027B0\"\n",
    "        u\"\\\\U000024C2-\\\\U0001F251\"\n",
    "        u\"\\\\U0001F926-\\\\U0001F937\"\n",
    "        u\"\\\\U00010000-\\\\U0001FFFF\"\n",
    "        u\"\\\\u2640-\\\\u2642\"\n",
    "        u\"\\\\u2600-\\\\u2B55\"\n",
    "        u\"\\\\u200d\"\n",
    "        u\"\\\\u23cf\"\n",
    "        u\"\\\\u23e9\"\n",
    "        u\"\\\\u231a\"\n",
    "        u\"\\\\ufe0f\"\n",
    "        u\"\\\\u3030\"\n",
    "        \"]+\", flags=re.UNICODE)\n",
    "    return emoji_unicodes.sub(r'', string)\n",
    "\n",
    "emoji_removal(text)"
   ]
  },
  {
   "cell_type": "code",
   "execution_count": null,
   "id": "a553d60e-19f9-427d-a6d5-aab16f9e1e6d",
   "metadata": {},
   "outputs": [],
   "source": []
  }
 ],
 "metadata": {
  "kernelspec": {
   "display_name": "Python 3 (ipykernel)",
   "language": "python",
   "name": "python3"
  },
  "language_info": {
   "codemirror_mode": {
    "name": "ipython",
    "version": 3
   },
   "file_extension": ".py",
   "mimetype": "text/x-python",
   "name": "python",
   "nbconvert_exporter": "python",
   "pygments_lexer": "ipython3",
   "version": "3.11.7"
  }
 },
 "nbformat": 4,
 "nbformat_minor": 5
}
