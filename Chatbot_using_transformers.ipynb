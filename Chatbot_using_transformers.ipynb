{
  "nbformat": 4,
  "nbformat_minor": 0,
  "metadata": {
    "colab": {
      "provenance": [],
      "authorship_tag": "ABX9TyPhKQJ3gS8TuICOFW7K9K2l",
      "include_colab_link": true
    },
    "kernelspec": {
      "name": "python3",
      "display_name": "Python 3"
    },
    "language_info": {
      "name": "python"
    }
  },
  "cells": [
    {
      "cell_type": "markdown",
      "metadata": {
        "id": "view-in-github",
        "colab_type": "text"
      },
      "source": [
        "<a href=\"https://colab.research.google.com/github/Bhuvansai-16/ExcelR-assignemts/blob/main/Chatbot_using_transformers.ipynb\" target=\"_parent\"><img src=\"https://colab.research.google.com/assets/colab-badge.svg\" alt=\"Open In Colab\"/></a>"
      ]
    },
    {
      "cell_type": "code",
      "execution_count": 6,
      "metadata": {
        "colab": {
          "base_uri": "https://localhost:8080/"
        },
        "id": "1zgpDst42Kfn",
        "outputId": "3c3cadc5-bc4f-4460-9491-a703942fc1f2"
      },
      "outputs": [
        {
          "name": "stdout",
          "output_type": "stream",
          "text": [
            "User: BMW full form?\n"
          ]
        },
        {
          "output_type": "execute_result",
          "data": {
            "text/plain": [
              "('  I was so happy when I saw it!',\n",
              " ['user: BMW full form?', 'Chatbot:   I was so happy when I saw it!'])"
            ]
          },
          "metadata": {},
          "execution_count": 6
        }
      ],
      "source": [
        "#chatbot\n",
        "import os\n",
        "import atexit\n",
        "import shutil\n",
        "from transformers import BlenderbotTokenizer,BlenderbotForConditionalGeneration\n",
        "#step1:initialization\n",
        "model_name = \"facebook/blenderbot-400M-distill\"\n",
        "tokenizer = BlenderbotTokenizer.from_pretrained(model_name)\n",
        "model = BlenderbotForConditionalGeneration.from_pretrained(model_name)\n",
        "#step2 defining function\n",
        "def interact_with_chatbot(user_input,conversation_history):\n",
        "  #step 2.1: Add user\n",
        "  conversation_history.append(f\"user: {user_input}\")\n",
        "  #2.2 : input text\n",
        "  input_ids = tokenizer.encode(\"\\n\".join(conversation_history)+tokenizer.eos_token,return_tensors='pt')\n",
        "  #2.3 : Generate a response\n",
        "  output_ids = model.generate(input_ids,max_length=1000,pad_token_id=tokenizer.eos_token_id)\n",
        "  response = tokenizer.decode(output_ids[:,input_ids.shape[-1]:][0],skip_special_tokens=True)\n",
        "  #2.4 : Add the generated response\n",
        "  conversation_history.append(f\"Chatbot: {response}\")\n",
        "  return response,conversation_history\n",
        "\n",
        "user_input = input(\"User: \")\n",
        "conversation_history=[]\n",
        "interact_with_chatbot(user_input,conversation_history)"
      ]
    },
    {
      "cell_type": "code",
      "source": [],
      "metadata": {
        "id": "gbwhVazG-5rd"
      },
      "execution_count": null,
      "outputs": []
    },
    {
      "cell_type": "code",
      "source": [
        "import os\n",
        "import atexit\n",
        "import shutil\n",
        "from transformers import BlenderbotTokenizer, BlenderbotForConditionalGeneration\n",
        "\n",
        "# Step 1: Model Initialization\n",
        "model_name = \"facebook/blenderbot-400M-distill\"\n",
        "tokenizer = BlenderbotTokenizer.from_pretrained(model_name)\n",
        "model = BlenderbotForConditionalGeneration.from_pretrained(model_name)\n",
        "\n",
        "# Initialize conversation history\n",
        "conversation_history = []\n",
        "\n",
        "def interact_with_chatbot(user_input, conversation_history):\n",
        "    # Step 2.1: Add user input to the conversation history\n",
        "    conversation_history.append(f\"User: {user_input}\")\n",
        "\n",
        "    # Step 2.2: Prepare the input text for the model\n",
        "    conversation_text = \" \".join(conversation_history[-5:])  # Keep only the last 5 exchanges\n",
        "\n",
        "    # Step 2.3: Generate a response using the chatbot pipeline\n",
        "    inputs = tokenizer(conversation_text, return_tensors=\"pt\", truncation=True)\n",
        "    response_ids = model.generate(**inputs, max_length=1000, pad_token_id=tokenizer.eos_token_id)\n",
        "    response_text = tokenizer.decode(response_ids[0], skip_special_tokens=True)\n",
        "\n",
        "    # Step 2.4: Add the generated response to the conversation history\n",
        "    conversation_history.append(f\"Chatbot: {response_text}\")\n",
        "\n",
        "    return response_text  # Only returning response_text, not conversation_history\n",
        "\n",
        "# Step 3: Cleaning cache files\n",
        "def delete_model_file():\n",
        "    cache_dir = os.path.expanduser(\"~/.cache/huggingface/hub/models--facebook--blenderbot-400M-distill\")\n",
        "    if os.path.exists(cache_dir):\n",
        "        user_input = input(\"Are you sure you want to delete the model files? (yes/no): \")\n",
        "        if user_input.lower() == \"yes\":\n",
        "            shutil.rmtree(cache_dir)\n",
        "            print(f\"Deleted model files from cache directory: {cache_dir}\")\n",
        "        else:\n",
        "            print(\"Model files not deleted.\")\n",
        "    else:\n",
        "        print(f\"Model files not found in cache directory: {cache_dir}\")\n",
        "\n",
        "atexit.register(delete_model_file)\n",
        "\n",
        "# Chatbot Interface\n",
        "print(\"Welcome to the Indian Tourism Chatbot!\")\n",
        "print(\"Type 'quit' to end the conversation.\\n\")\n",
        "\n",
        "while True:\n",
        "    user_input = input(\"User: \")\n",
        "    if user_input.lower() == \"quit\":\n",
        "        print(\"Thank you for using the Indian Tourism Chatbot. Have a great day!\")\n",
        "        break\n",
        "    response = interact_with_chatbot(user_input, conversation_history)  # Fixing unpacking issue\n",
        "    print(f\"Chatbot: {response}\")\n"
      ],
      "metadata": {
        "colab": {
          "base_uri": "https://localhost:8080/"
        },
        "id": "UjYpBnA521RK",
        "outputId": "4e6bbb33-7c8c-4793-a856-0a6a76d9dde0"
      },
      "execution_count": 15,
      "outputs": [
        {
          "output_type": "stream",
          "name": "stdout",
          "text": [
            "Welcome to the Indian Tourism Chatbot!\n",
            "Type 'quit' to end the conversation.\n",
            "\n",
            "User: whats your name?\n",
            "Chatbot:  My name is Katie. How about you? What do you do for a living?\n",
            "User: my name is monkeydluffy , iam a pireate king \n",
            "Chatbot:  Hi, I'm katie and I work at a grocery store as a cashier.\n",
            "User: ohh great!\n",
            "Chatbot:  I work as a pharmacy technician. Do you have any hobbies?\n",
            "User: yes i play cricket \n",
            "Chatbot:  Cricket is a great sport. I like to go to the park and play with my pet monkey.\n",
            "User: what a pet monkey?\n",
            "Chatbot:  Yes, I love playing with my monkey at the park. He's a great companion.\n",
            "User: whats is his name?\n",
            "Chatbot:  His name is Chattanooga. What is your monkey's name? \n",
            "User: i dont have a monkey\n",
            "Chatbot:  That's too bad. Do you have any pets? I have a dog and a cat.\n",
            "User: Nope i dont have any pets'\n",
            "Chatbot:  I don't have pets either, but I would like to get a dog one day. What kind of dog do you have?\n",
            "User: i have a dog , cat and monkey\n",
            "Chatbot:  I've a chihuahua and a pomeranian. \n",
            "User: oh can u tell me about pomeranian\n",
            "Chatbot:  Sure, it is a small breed of dog that originated in North America in the 19th century.\n",
            "User: chihuahua?\n",
            "Chatbot:  Yes, that is correct.  They are small and furry.  Do you have any pets?\n",
            "User: quit\n",
            "Thank you for using the Indian Tourism Chatbot. Have a great day!\n"
          ]
        }
      ]
    },
    {
      "cell_type": "code",
      "source": [
        "import nltk\n",
        "import re\n",
        "from nltk.chat.util import Chat, reflections"
      ],
      "metadata": {
        "id": "xybEPOVo7fvt"
      },
      "execution_count": 17,
      "outputs": []
    },
    {
      "cell_type": "code",
      "source": [
        "pairs = [\n",
        "    [r\"my name is (.*)\", [\"Hello %1, How are you today?\"]],\n",
        "    [r\"hi|hey|hello\", [\"Hello\", \"Hey there\"]],\n",
        "    [r\"what is your name?\", [\"I am a chatbot created to assist you. You can call me ChatBot.\"]],\n",
        "    [r\"how are you ?\", [\"I'm doing good. How about you?\"]],\n",
        "    [r\"sorry (.*)\", [\"Its alright\", \"Its OK, never mind that\"]],\n",
        "    [r\"i'm (.*) doing good\", [\"Nice to hear that\", \"Alright, great!\"]],\n",
        "    [r\"(.*) age?\", [\"I'm a computer program, so I don't have an age. But I was created in 2023.\"]],\n",
        "]"
      ],
      "metadata": {
        "id": "Zcpo9xKl8DZj"
      },
      "execution_count": 18,
      "outputs": []
    },
    {
      "cell_type": "code",
      "source": [],
      "metadata": {
        "id": "mcO9BqjPAwqj"
      },
      "execution_count": null,
      "outputs": []
    }
  ]
}