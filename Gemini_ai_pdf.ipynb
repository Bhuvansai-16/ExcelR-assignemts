{
  "nbformat": 4,
  "nbformat_minor": 0,
  "metadata": {
    "colab": {
      "provenance": [],
      "authorship_tag": "ABX9TyNBZUCXN7PYMDgtcwdq4ckS",
      "include_colab_link": true
    },
    "kernelspec": {
      "name": "python3",
      "display_name": "Python 3"
    },
    "language_info": {
      "name": "python"
    }
  },
  "cells": [
    {
      "cell_type": "markdown",
      "metadata": {
        "id": "view-in-github",
        "colab_type": "text"
      },
      "source": [
        "<a href=\"https://colab.research.google.com/github/Bhuvansai-16/ExcelR-assignemts/blob/main/Gemini_ai_pdf.ipynb\" target=\"_parent\"><img src=\"https://colab.research.google.com/assets/colab-badge.svg\" alt=\"Open In Colab\"/></a>"
      ]
    },
    {
      "cell_type": "code",
      "source": [
        "!pip install PyPDF2"
      ],
      "metadata": {
        "colab": {
          "base_uri": "https://localhost:8080/"
        },
        "id": "lQF4hjbChFoH",
        "outputId": "49c2ac11-3caa-41e1-db68-cf17a11a0218"
      },
      "execution_count": 3,
      "outputs": [
        {
          "output_type": "stream",
          "name": "stdout",
          "text": [
            "Collecting PyPDF2\n",
            "  Downloading pypdf2-3.0.1-py3-none-any.whl.metadata (6.8 kB)\n",
            "Downloading pypdf2-3.0.1-py3-none-any.whl (232 kB)\n",
            "\u001b[?25l   \u001b[90m━━━━━━━━━━━━━━━━━━━━━━━━━━━━━━━━━━━━━━━━\u001b[0m \u001b[32m0.0/232.6 kB\u001b[0m \u001b[31m?\u001b[0m eta \u001b[36m-:--:--\u001b[0m\r\u001b[2K   \u001b[91m━━━━━━━━━━━━━━━━━━━━━━━━━━━━━━━━━━━━━━\u001b[0m\u001b[91m╸\u001b[0m\u001b[90m━\u001b[0m \u001b[32m225.3/232.6 kB\u001b[0m \u001b[31m7.3 MB/s\u001b[0m eta \u001b[36m0:00:01\u001b[0m\r\u001b[2K   \u001b[90m━━━━━━━━━━━━━━━━━━━━━━━━━━━━━━━━━━━━━━━━\u001b[0m \u001b[32m232.6/232.6 kB\u001b[0m \u001b[31m5.1 MB/s\u001b[0m eta \u001b[36m0:00:00\u001b[0m\n",
            "\u001b[?25hInstalling collected packages: PyPDF2\n",
            "Successfully installed PyPDF2-3.0.1\n"
          ]
        }
      ]
    },
    {
      "cell_type": "code",
      "execution_count": 1,
      "metadata": {
        "id": "7NH1izm1gV-H"
      },
      "outputs": [],
      "source": [
        "import google.generativeai as genai\n",
        "from google.colab import userdata\n",
        "GOOGLE_API_KEY = userdata.get('GEMINI_API_KEY')\n",
        "genai.configure(api_key=GOOGLE_API_KEY)\n"
      ]
    },
    {
      "cell_type": "code",
      "source": [
        "import PyPDF2\n",
        "\n",
        "def extract_text(pdf_path):\n",
        "    text = \"\"\n",
        "    with open(pdf_path, 'rb') as pdf_file:\n",
        "        pdf_reader = PyPDF2.PdfReader(pdf_file)\n",
        "        for page in pdf_reader.pages:\n",
        "            text += page.extract_text()\n",
        "    return text"
      ],
      "metadata": {
        "id": "hiNUdlBVhvaK"
      },
      "execution_count": 9,
      "outputs": []
    },
    {
      "cell_type": "code",
      "source": [
        "extracted_text = extract_text('/content/health_report.pdf')\n",
        "print(extracted_text)"
      ],
      "metadata": {
        "colab": {
          "base_uri": "https://localhost:8080/"
        },
        "id": "CFNeZTp9hvis",
        "outputId": "bded7a10-d7b3-408a-b3ac-0187b842c65c"
      },
      "execution_count": 12,
      "outputs": [
        {
          "output_type": "stream",
          "name": "stdout",
          "text": [
            "INVESTIGATION RESULT UNIT BIOLOGICAL REFERENCE RANGE\n",
            "S.TYPHI \" O \" 1:160 1:20 Dilution\n",
            "S. TYPHI \" H \" 1:80 1:20 Dilution\n",
            "S. PARATYPHI \" AH \" 1:20 1:20 Dilution\n",
            "S.PARATYPHI \" BH \" 1:20 1:20 Dilution\n",
            "N. SARITHA\n",
            "MICROBIOLOGISTPatient Name : MR. KISHAN GOUD MR Number : MR2100003157\n",
            "IP Number : IP2100041193 Ward/Bed : 2C-WARD/C203\n",
            "Mobile : 8019392984 Order Date : 01/02/2021 00:16:47\n",
            "Age/Gender : 56 Y,1 M,3 D  / Male Sample Date : 01/02/2021 00:32:28\n",
            "Doctor : KRISHNA PRASAD Result Status : COMPLETED\n",
            "Sample No : LB-20-026250 Order No : DL-20-026521\n",
            "Company : \n",
            "MICROBIOLOGY and SEROLOGY\n",
            "WIDAL\n",
            "***End of Report***\n",
            "Check ed by :    ARIFINVESTIGATION RESULT UNIT BIOLOGICAL REFERENCE RANGE\n",
            "DENGUE NS1 ANTIGEN NEGA TIVE\n",
            "DENGUE IgG\n",
            "Method: ImmunochromatographyNEGA TIVE\n",
            "DENGUE IgM\n",
            "Method: ImmunochromatographyNEGA TIVE\n",
            "N. SARITHA\n",
            "MICROBIOLOGISTPatient Name : MR. KISHAN GOUD MR Number : MR2100003157\n",
            "IP Number : IP2100041193 Ward/Bed : 2C-WARD/C203\n",
            "Mobile : 8019392984 Order Date : 01/02/2021 00:16:47\n",
            "Age/Gender : 56 Y,1 M,3 D  / Male Sample Date : 01/02/2021 00:32:28\n",
            "Doctor : KRISHNA PRASAD Result Status : COMPLETED\n",
            "Sample No : LB-20-026250 Order No : DL-20-026521\n",
            "Company : \n",
            "MICROBIOLOGY and SEROLOGY\n",
            "DENGUE SEROLOGY - NS1, IgG, IgM\n",
            "***End of Report***\n",
            "Check ed by :    ARIFINVESTIGATION RESULT UNIT BIOLOGICAL REFERENCE RANGE\n",
            "ESR 1st Hour 26 mm/hr 0 - 8\n",
            "ESR 2nd Hour 52 mm/hr\n",
            "MADHAVI R.\n",
            "MD PATHOLOGISTPatient Name : MR. KISHAN GOUD MR Number : MR2100003157\n",
            "IP Number : IP2100041193 Ward/Bed : 2C-WARD/C203\n",
            "Mobile : 8019392984 Order Date : 01/02/2021 00:16:47\n",
            "Age/Gender : 56 Y,1 M,3 D  / Male Sample Date : 01/02/2021 00:32:28\n",
            "Doctor : KRISHNA PRASAD Result Status : COMPLETED\n",
            "Sample No : LB-20-026250 Order No : DL-20-026521\n",
            "Company : \n",
            "HAEMATOLOGY and CL.PATHOLOGY\n",
            "ERYTHROCYTE SEDIMENTATION RATE\n",
            "***End of Report***\n",
            "Check ed by :    ARIFINVESTIGATION RESULT UNIT BIOLOGICAL REFERENCE RANGE\n",
            "RAPID MALARIA TEST P .V NEGA TIVE\n",
            "RAPID MALARIA TEST P .F NEGA TIVE\n",
            "MADHAVI R.\n",
            "MD PATHOLOGISTPatient Name : MR. KISHAN GOUD MR Number : MR2100003157\n",
            "IP Number : IP2100041193 Ward/Bed : 2C-WARD/C203\n",
            "Mobile : 8019392984 Order Date : 01/02/2021 00:16:47\n",
            "Age/Gender : 56 Y,1 M,3 D  / Male Sample Date : 01/02/2021 00:32:28\n",
            "Doctor : KRISHNA PRASAD Result Status : COMPLETED\n",
            "Sample No : LB-20-026250 Order No : DL-20-026521\n",
            "Company : \n",
            "HAEMATOLOGY and CL.PATHOLOGY\n",
            "RAPID MALARIA TEST\n",
            "***End of Report***\n",
            "Check ed by :    ARIFINVESTIGATION RESULT UNIT BIOLOGICAL REFERENCE RANGE\n",
            "HAEMOGL OBIN 13.6 gms% 13 - 17\n",
            "RBC 4.3 mill/cumm 4.5 - 5.5\n",
            "WBC 7,200 cells/cumm 4000 - 10000\n",
            "PLATELET COUNT 2.0 lakhs/cumm 1.5 - 4.5\n",
            "P.C.V 40.5 % 40 - 50\n",
            "DIFFERENTIAL COUNT\n",
            "NEUTROPHILS 59 % 40 - 80\n",
            "LYMPHOCYTES 31 % 20 - 40\n",
            "EOSINOPHILS 04 % 1 - 6\n",
            "MONOCYTES 06 % 2 - 10\n",
            "BASOPHILS 00 % 0 - 2\n",
            "PERIPHERAL BLOOD SMEAR\n",
            "R.B.C NORMOCYTIC\n",
            "/NORMOCHROMIC\n",
            "W.B.C WITH IN NORMAL LIMIT S\n",
            "PLATELET S ADEQU ATE\n",
            "MADHAVI R.\n",
            "MD PATHOLOGISTPatient Name : MR. KISHAN GOUD MR Number : MR2100003157\n",
            "IP Number : IP2100041193 Ward/Bed : 2C-WARD/C203\n",
            "Mobile : 8019392984 Order Date : 01/02/2021 00:16:47\n",
            "Age/Gender : 56 Y,1 M,3 D  / Male Sample Date : 01/02/2021 00:32:28\n",
            "Doctor : KRISHNA PRASAD Result Status : COMPLETED\n",
            "Sample No : LB-20-026250 Order No : DL-20-026521\n",
            "Company : \n",
            "HAEMATOLOGY and CL.PATHOLOGY\n",
            "COMPLETE BLOOD PICTURE\n",
            "***End of Report***\n",
            "Check ed by :    ARIFINVESTIGATION RESULT UNIT BIOLOGICAL REFERENCE RANGE\n",
            "HbA1C 5.4% % Normal non diabetic r ange : 4-6%\n",
            "Controlled diabetic r ange : 6-7%\n",
            "Unsatisfactory control : 7-8% Poor\n",
            "control :>8%\n",
            "MADHAVI R.\n",
            "MD PATHOLOGISTPatient Name : MR. KISHAN GOUD MR Number : MR2100003157\n",
            "IP Number : IP2100041193 Ward/Bed : 2C-WARD/C203\n",
            "Mobile : 8019392984 Order Date : 01/02/2021 00:16:47\n",
            "Age/Gender : 56 Y,1 M,3 D  / Male Sample Date : 01/02/2021 00:32:28\n",
            "Doctor : KRISHNA PRASAD Result Status : COMPLETED\n",
            "Sample No : LB-20-026250 Order No : DL-20-026521\n",
            "Company : \n",
            "HAEMATOLOGY and CL.PATHOLOGY\n",
            "HbA1C\n",
            "***End of Report***\n",
            "Check ed by :    ARIFINVESTIGATION RESULT UNIT BIOLOGICAL REFERENCE RANGE\n",
            "SERUM CREA TININE\n",
            "Method: JAFFES METHOD0.8 mg/dl 0.6 - 1.25\n",
            "P SUNEETHA\n",
            "BIOCHEMISTPatient Name : MR. KISHAN GOUD MR Number : MR2100003157\n",
            "IP Number : IP2100041193 Ward/Bed : 2C-WARD/C203\n",
            "Mobile : 8019392984 Order Date : 01/02/2021 00:16:47\n",
            "Age/Gender : 56 Y,1 M,3 D  / Male Sample Date : 01/02/2021 00:32:28\n",
            "Doctor : KRISHNA PRASAD Result Status : COMPLETED\n",
            "Sample No : LB-20-026250 Order No : DL-20-026521\n",
            "Company : \n",
            "BIOCHEMISTRY\n",
            "SERUM CREATININE\n",
            "***End of Report***\n",
            "Check ed by :    ARIFINVESTIGATION RESULT UNIT BIOLOGICAL REFERENCE RANGE\n",
            "RANDOM BL OOD GLUCOSE\n",
            "Method: GOD-POD METHODmg/dl 60 - 170\n",
            "P SUNEETHA\n",
            "BIOCHEMISTPatient Name : MR. KISHAN GOUD MR Number : MR2100003157\n",
            "IP Number : IP2100041193 Ward/Bed : 2C-WARD/C203\n",
            "Mobile : 8019392984 Order Date : 01/02/2021 00:16:47\n",
            "Age/Gender : 56 Y,1 M,3 D  / Male Sample Date : 01/02/2021 00:32:28\n",
            "Doctor : KRISHNA PRASAD Result Status : COMPLETED\n",
            "Sample No : LB-20-026250 Order No : DL-20-026521\n",
            "Company : \n",
            "BIOCHEMISTRY\n",
            "RANDOM BLOOD GLUCOSE\n",
            "***End of Report***\n",
            "Check ed by :    ARIFINVESTIGATION RESULT UNIT BIOLOGICAL REFERENCE RANGE\n",
            "SERUM BILIRUBIN(T OTAL)\n",
            "Method: DIAZO METHOD0.6 mg/dl 0.2 - 1.3\n",
            "SERUM BILIRUBIN(DIRECT)\n",
            "Method: DIAZO METHOD0.2 mg/dl 0.2 - 0.8\n",
            "SERUM BILIRUBIN (INDIRECT)\n",
            "Method: DIAZO METHOD0.4 mg/dl\n",
            "SERUM ALKALINE PHOSPHA TE\n",
            "Method: TRIS CARBONATE BUFFER71 IU/L 35 - 120\n",
            "SGOT\n",
            "Method: IFCC METHOD24 u/L 17 - 59\n",
            "SGPT\n",
            "Method: IFCC METHOD20 u/L 5 - 40\n",
            "TOTAL PRO TEIN\n",
            "Method: BIURET METHOD7.3 gms/dl 6.3 - 8.2\n",
            "ALBUMIN\n",
            "Method: BCG Dye METHOD4.0 gms/dl 3.5 - 5\n",
            "GLOBULIN 3.3 gms/dl\n",
            "A/G RA TIO 1.2\n",
            "P SUNEETHA\n",
            "BIOCHEMISTPatient Name : MR. KISHAN GOUD MR Number : MR2100003157\n",
            "IP Number : IP2100041193 Ward/Bed : 2C-WARD/C203\n",
            "Mobile : 8019392984 Order Date : 01/02/2021 00:16:47\n",
            "Age/Gender : 56 Y,1 M,3 D  / Male Sample Date : 01/02/2021 00:32:28\n",
            "Doctor : KRISHNA PRASAD Result Status : COMPLETED\n",
            "Sample No : LB-20-026250 Order No : DL-20-026521\n",
            "Company : \n",
            "BIOCHEMISTRY\n",
            "LIVER FUNCTION TEST\n",
            "***End of Report***\n",
            "Check ed by :    ARIFINVESTIGATION RESULT UNIT BIOLOGICAL REFERENCE RANGE\n",
            "SERUM SODIUM\n",
            "Method: ISE:METHOD122 mmol/l 135 - 146\n",
            "SERUM PO TASSIUM\n",
            "Method: ISE:METHOD3.5 mmol/l 3.5 - 5.5\n",
            "SERUM CHL ORIDE\n",
            "Method: ISE:METHOD97 mmol/l 98 - 107\n",
            "P SUNEETHA\n",
            "BIOCHEMISTPatient Name : MR. KISHAN GOUD MR Number : MR2100003157\n",
            "IP Number : IP2100041193 Ward/Bed : 2C-WARD/C203\n",
            "Mobile : 8019392984 Order Date : 01/02/2021 00:16:47\n",
            "Age/Gender : 56 Y,1 M,3 D  / Male Sample Date : 01/02/2021 00:32:28\n",
            "Doctor : KRISHNA PRASAD Result Status : COMPLETED\n",
            "Sample No : LB-20-026250 Order No : DL-20-026521\n",
            "Company : \n",
            "BIOCHEMISTRY\n",
            "SERUM ELECTROLYES\n",
            "***End of Report***\n",
            "Check ed by :    ARIF\n"
          ]
        }
      ]
    },
    {
      "cell_type": "code",
      "source": [
        "def health_insights(text):\n",
        "  model = genai.GenerativeModel(\"gemini-1.5-flash\")\n",
        "  prompt=f\"Extract the insights from the following health report:\\n\\n{text}\"\n",
        "  response = model.generate_content(prompt)\n",
        "  return response.text\n",
        "\n",
        "\n",
        "insigts = health_insights(extracted_text)\n",
        "print(insigts)"
      ],
      "metadata": {
        "colab": {
          "base_uri": "https://localhost:8080/",
          "height": 609
        },
        "id": "WfSU6gaFiBxs",
        "outputId": "c3ca815e-472a-4489-ea03-cdaa2ab73644"
      },
      "execution_count": 15,
      "outputs": [
        {
          "output_type": "stream",
          "name": "stdout",
          "text": [
            "The report shows the results of several tests conducted on Mr. Kishan Goud on February 1st, 2021.  Here's a summary of the key insights:\n",
            "\n",
            "**Infectious Diseases:**\n",
            "\n",
            "* **Widal Test:**  Elevated titers for *Salmonella Typhi* \"O\" (1:160) and \"H\" (1:80) suggest a possible past or current infection with typhoid fever.  However, the reference range is 1:20 which means values above 1:20 indicates a possible past infection.  *Salmonella Paratyphi* \"A\" and \"B\" titers are within the normal range.  The interpretation needs clinical correlation.\n",
            "\n",
            "* **Dengue Serology:** Negative results for Dengue NS1 antigen, IgG, and IgM antibodies indicate no current or recent dengue fever infection.\n",
            "\n",
            "* **Malaria Test:** Negative results for both *Plasmodium vivax* and *Plasmodium falciparum* rule out malaria.\n",
            "\n",
            "**Hematology:**\n",
            "\n",
            "* **Complete Blood Picture (CBC):**  All values (Hemoglobin, RBC, WBC, Platelets, PCV, Differential count) are within the normal range, indicating no significant abnormality in blood cell counts.\n",
            "\n",
            "* **Erythrocyte Sedimentation Rate (ESR):** Elevated ESR (26 mm/hr in the first hour, 52 mm/hr in the second hour). While this suggests inflammation or infection, it's non-specific and needs further investigation in conjunction with other findings.\n",
            "\n",
            "**Biochemistry:**\n",
            "\n",
            "* **Liver Function Test (LFT):** All liver function markers (bilirubin, alkaline phosphatase, SGOT, SGPT, total protein, albumin, globulin, A/G ratio) are within the normal range, indicating normal liver function.\n",
            "\n",
            "* **Serum Electrolytes:** Sodium is slightly low (122 mmol/l; reference range 135-146 mmol/l), while potassium and chloride are within normal limits. The low sodium needs further clinical evaluation and may warrant further investigation.\n",
            "\n",
            "* **Renal Function Test:** Creatinine level (0.8 mg/dl) is within the normal range (0.6-1.25 mg/dl), suggesting normal kidney function.\n",
            "\n",
            "* **Blood Glucose:** Random blood glucose (RBG) is not provided.\n",
            "\n",
            "* **HbA1c:** HbA1c (5.4%) falls within the normal non-diabetic range (4-6%), indicating good blood glucose control.\n",
            "\n",
            "\n",
            "**Overall:**\n",
            "\n",
            "The most significant findings are the elevated Widal test titers suggesting a past typhoid infection, and slightly low serum sodium.  The elevated ESR indicates inflammation, which could be related to the past typhoid infection or another factor.  Further clinical evaluation and potentially additional testing may be needed to clarify the reason for the slightly low sodium. The overall picture does not indicate major acute problems.  The information provided should be interpreted and evaluated along with clinical signs and symptoms by a physician.\n",
            "\n"
          ]
        }
      ]
    },
    {
      "cell_type": "code",
      "source": [
        "def summarize_health_insights(text):\n",
        "  model = genai.GenerativeModel(\"gemini-1.5-flash\")\n",
        "  prompt=f\"summarize the following health report in a concise manner:\\n\\n{text}\"\n",
        "  response = model.generate_content(prompt)\n",
        "  return response.text\n",
        "\n",
        "\n",
        "summary = summarize_health_insights(extracted_text)\n",
        "print(\"summary:\\n\",summary)"
      ],
      "metadata": {
        "colab": {
          "base_uri": "https://localhost:8080/",
          "height": 315
        },
        "id": "ysAlsmDnjmq6",
        "outputId": "df653221-02d3-4f36-cee9-fce6747c3b4f"
      },
      "execution_count": 17,
      "outputs": [
        {
          "output_type": "stream",
          "name": "stdout",
          "text": [
            "summary:\n",
            " Mr. Kishan Goud's (MR2100003157) lab results from 01/02/2021 show:\n",
            "\n",
            "* **Widal Test:** Elevated titers for *Salmonella Typhi* \"O\" (1:160) and \"H\" (1:80), suggesting possible typhoid.  *Salmonella Paratyphi* \"A\" and \"B\" were within normal range.\n",
            "* **Dengue Serology:** Negative for NS1 antigen, IgG, and IgM.\n",
            "* **ESR:** Elevated (26 mm/hr in the first hour, 52 mm/hr in the second), indicating inflammation.\n",
            "* **Malaria Test:** Negative for *Plasmodium vivax* and *Plasmodium falciparum*.\n",
            "* **Complete Blood Count (CBC):**  Hemoglobin, RBC, WBC, and platelets within normal limits.  Differential count also within normal ranges.\n",
            "* **HbA1c:** 5.4% (within normal non-diabetic range).\n",
            "* **Serum Creatinine:** 0.8 mg/dl (within normal range).\n",
            "* **Random Blood Glucose:**  Not provided in the report.\n",
            "* **Liver Function Test (LFT):**  All values within normal ranges.\n",
            "* **Serum Electrolytes:** Sodium (122 mmol/l) slightly low, Chloride (97 mmol/l) slightly low, Potassium within normal range.\n",
            "\n",
            "**Note:**  Elevated Widal test and ESR suggest possible infection.  Further investigation may be needed.  The slightly low sodium and chloride levels warrant additional evaluation by the attending physician.\n",
            "\n"
          ]
        }
      ]
    },
    {
      "cell_type": "code",
      "source": [
        "def detect_abnormalies(text):\n",
        "  model = genai.GenerativeModel(\"gemini-1.5-flash\")\n",
        "  prompt=f\"Analyze the lab test results in the following health report and highlight any abnormal values:\\n\\n{text}\"\n",
        "  response = model.generate_content(prompt)\n",
        "  return response.text\n",
        "\n",
        "\n",
        "insigts = detect_abnormalies(extracted_text)\n",
        "print(\"Potential Abnormalities:\\n\",insigts)"
      ],
      "metadata": {
        "colab": {
          "base_uri": "https://localhost:8080/",
          "height": 280
        },
        "id": "R-WlRGW9nG1b",
        "outputId": "0ccc670b-96e9-4bcd-f26b-23a31420ca8f"
      },
      "execution_count": 20,
      "outputs": [
        {
          "output_type": "stream",
          "name": "stdout",
          "text": [
            "Potential Abnormalities:\n",
            " Based on the provided lab results, the following values fall outside the reference ranges and are considered abnormal:\n",
            "\n",
            "* **Widal Test:**  S. Typhi \"O\" (1:160) and S. Typhi \"H\" (1:80) are significantly higher than the reference range of 1:20. This suggests a possible past or present infection with *Salmonella Typhi*,  requiring further investigation and clinical correlation.  The high titre suggests a more significant response than a recent infection.\n",
            "\n",
            "* **ESR (Erythrocyte Sedimentation Rate):** Both the 1st hour (26 mm/hr) and 2nd hour (52 mm/hr) values are elevated compared to the reference range of 0-8 mm/hr for the first hour.  This indicates inflammation or infection somewhere in the body.\n",
            "\n",
            "* **Serum Sodium:** The level of 122 mmol/l is below the reference range of 135-146 mmol/l, indicating hyponatremia (low sodium). This is a significant finding and requires medical attention.\n",
            "\n",
            "* **Serum Chloride:**  The level of 97 mmol/l is slightly below the reference range of 98-107 mmol/l. While not drastically outside the range, it is worth noting in conjunction with the hyponatremia.\n",
            "\n",
            "\n",
            "**Important Note:**  I am an AI and cannot give medical advice.  These highlighted abnormalities require interpretation by a qualified medical professional in the context of Mr. Kishan Goud's complete medical history, symptoms, and other clinical findings.  The doctor should be consulted for appropriate diagnosis and treatment.\n",
            "\n"
          ]
        }
      ]
    },
    {
      "cell_type": "code",
      "source": [
        "def Explain(text):\n",
        "  model = genai.GenerativeModel(\"gemini-1.5-flash\")\n",
        "  prompt=f\"Explain the medical terms in the following health report in simple language:\\n\\n{text}\"\n",
        "  response = model.generate_content(prompt)\n",
        "  return response.text\n",
        "explain = Explain(extracted_text)\n",
        "print(explain)"
      ],
      "metadata": {
        "colab": {
          "base_uri": "https://localhost:8080/",
          "height": 1000
        },
        "id": "n9wu4X1goZCb",
        "outputId": "a02d0cc3-2090-41ea-bf3b-4dfcf0414cd9"
      },
      "execution_count": 23,
      "outputs": [
        {
          "output_type": "stream",
          "name": "stdout",
          "text": [
            "This report shows the results of several blood tests performed on Mr. Kishan Goud. Let's break down each section:\n",
            "\n",
            "\n",
            "**1. WIDAL Test (for Typhoid):**\n",
            "\n",
            "* **S. Typhi \"O\" 1:160:** This measures antibodies against the \"O\" antigen of *Salmonella Typhi*, the bacteria that causes typhoid fever.  1:160 is a higher-than-normal result, suggesting a possible past or present typhoid infection.  The reference range (1:20) shows that anything above that is considered potentially positive.\n",
            "* **S. Typhi \"H\" 1:80:** This measures antibodies against the \"H\" antigen of *Salmonella Typhi*. Again, 1:80 is higher than normal and may indicate past or present infection.\n",
            "* **S. Paratyphi \"AH\" 1:20:** This measures antibodies against the \"AH\" antigen of *Salmonella Paratyphi*, another bacteria causing a similar illness.  1:20 is within the normal range, so this test is negative.\n",
            "* **S. Paratyphi \"BH\" 1:20:** This measures antibodies against the \"BH\" antigen of *Salmonella Paratyphi*. This result is also within the normal range, and negative.\n",
            "\n",
            "**In short:** The Widal test suggests a possible past or present typhoid infection, but more investigation may be needed.\n",
            "\n",
            "\n",
            "**2. Dengue Serology:**\n",
            "\n",
            "* **Dengue NS1 Antigen:** Negative – This test checks for a protein produced by the dengue virus.  A negative result means no active dengue infection is detected.\n",
            "* **Dengue IgG:** Negative – This checks for antibodies indicating a past dengue infection.  A negative result means no previous infection is detected.\n",
            "* **Dengue IgM:** Negative – This checks for antibodies indicating a recent dengue infection. A negative result means no recent infection is detected.\n",
            "\n",
            "**In short:**  The patient does not have an active or recent dengue fever infection.\n",
            "\n",
            "\n",
            "**3. Erythrocyte Sedimentation Rate (ESR):**\n",
            "\n",
            "* **ESR 1st Hour 26 mm/hr:** This measures how quickly red blood cells settle in a blood sample.  26 mm/hr is elevated (normal is 0-8 mm/hr). This can indicate inflammation somewhere in the body.\n",
            "* **ESR 2nd Hour 52 mm/hr:** This is the ESR reading after 2 hours, showing a further increase.  This strongly supports the finding of inflammation.\n",
            "\n",
            "**In short:** There is significant inflammation present.\n",
            "\n",
            "\n",
            "**4. Rapid Malaria Test:**\n",
            "\n",
            "* **P.V Negative:** Negative for *Plasmodium vivax*, a type of malaria parasite.\n",
            "* **P.F Negative:** Negative for *Plasmodium falciparum*, another type of malaria parasite.\n",
            "\n",
            "**In short:** The patient does not have malaria.\n",
            "\n",
            "\n",
            "**5. Complete Blood Picture (CBC):**\n",
            "\n",
            "This section reports various blood cell counts and measurements:\n",
            "\n",
            "* **Hemoglobin (Hb):** 13.6 gms% (normal). This measures the oxygen-carrying capacity of red blood cells.\n",
            "* **Red Blood Cells (RBC):** 4.3 mill/cumm (slightly low, but within the lower range of normal).\n",
            "* **White Blood Cells (WBC):** 7,200 cells/cumm (normal).  These fight infection.\n",
            "* **Platelet Count:** 2.0 lakhs/cumm (normal). These help with blood clotting.\n",
            "* **Packed Cell Volume (PCV):** 40.5% (normal). This is the percentage of red blood cells in the blood.\n",
            "* **Differential Count:** This breaks down the types of white blood cells.  All are within the normal range.\n",
            "* **Peripheral Blood Smear:**  The microscopic examination of the blood is normal.\n",
            "\n",
            "**In short:** The overall blood picture is mostly normal, with slightly low red blood cell count, but within acceptable limits.\n",
            "\n",
            "\n",
            "**6. HbA1c:**\n",
            "\n",
            "* **HbA1c 5.4%:** This measures average blood sugar levels over the past 2-3 months.  5.4% is within the normal range for someone without diabetes.\n",
            "\n",
            "**In short:** The patient's blood sugar control is good.\n",
            "\n",
            "\n",
            "**7. Serum Creatinine:**\n",
            "\n",
            "* **Serum Creatinine 0.8 mg/dl:** This measures kidney function. 0.8 mg/dl is within the normal range.\n",
            "\n",
            "**In short:** Kidney function is normal.\n",
            "\n",
            "\n",
            "**8. Random Blood Glucose:**\n",
            "\n",
            "* **Random Blood Glucose (within normal range):**  This is a measure of blood sugar at a single point in time. The value is within the normal range.\n",
            "\n",
            "**In short:** Blood sugar is currently normal.\n",
            "\n",
            "\n",
            "**9. Liver Function Test (LFT):**\n",
            "\n",
            "All liver enzymes are within the normal range (Bilirubin, Alkaline Phosphatase, SGOT, SGPT, Total Protein, Albumin, Globulin, A/G Ratio).\n",
            "\n",
            "**In short:** Liver function appears normal.\n",
            "\n",
            "\n",
            "**10. Serum Electrolytes:**\n",
            "\n",
            "* **Serum Sodium, Potassium, and Chloride:** All are within the normal range.\n",
            "\n",
            "**In short:** Electrolyte levels are normal.\n",
            "\n",
            "\n",
            "\n",
            "**Overall:**\n",
            "\n",
            "The report shows mostly normal results, with the exception of the elevated ESR, suggesting inflammation. The slightly elevated Widal test suggests a possible past or present typhoid infection, which requires further assessment by the physician.  The doctor should interpret this information in the context of Mr. Kishan Goud's symptoms and medical history.  He or she will determine if further tests or treatments are needed.\n",
            "\n"
          ]
        }
      ]
    },
    {
      "cell_type": "code",
      "source": [
        "def ask_gemini(text,question):\n",
        "  model = genai.GenerativeModel(\"gemini-1.5-flash\")\n",
        "  prompt=f\"The following health report:\\n\\n{text}\\n\\nAnswer the following question based on the report:\\n{question}\"\n",
        "  response = model.generate_content(prompt)\n",
        "  return response.text\n",
        "\n",
        "question = \"what is the condition of patient?\"\n",
        "insigts = ask_gemini(extracted_text,question)\n",
        "print(insigts)"
      ],
      "metadata": {
        "colab": {
          "base_uri": "https://localhost:8080/",
          "height": 262
        },
        "id": "X_vbg8l4o-0Z",
        "outputId": "e13bb213-8d6c-4ba8-a801-35cc2c98ba5d"
      },
      "execution_count": 25,
      "outputs": [
        {
          "output_type": "stream",
          "name": "stdout",
          "text": [
            "Based on the provided lab report, Mr. Kishan Goud's condition is not definitively diagnosed.  The report shows several results outside of the normal ranges, but these are not necessarily indicative of a single illness.  Further clinical evaluation and interpretation by a physician is required.\n",
            "\n",
            "Here's a breakdown of the notable findings:\n",
            "\n",
            "* **Elevated ESR (Erythrocyte Sedimentation Rate):**  The significantly elevated ESR (26 mm/hr in the first hour and 52 mm/hr in the second) suggests the presence of inflammation in the body.  This is a nonspecific finding and could indicate various conditions, from infection to autoimmune disorders.\n",
            "\n",
            "* **Widal Test:**  While the titers for *Salmonella Typhi* O and H are elevated (1:160 and 1:80 respectively),  they're not dramatically so.  This, combined with negative results for paratyphi, makes a definitive diagnosis of typhoid fever uncertain.  It may suggest past exposure or a low-grade infection, but further testing might be needed for confirmation.\n",
            "\n",
            "* **Other tests:** All other tests (Dengue serology, Malaria, Complete Blood Count, HbA1c, Liver Function Tests, Serum Electrolytes) are within normal ranges or show only minor deviations, not significant enough to suggest a clear diagnosis on their own.  The slightly low serum sodium could be clinically insignificant or require further investigation.\n",
            "\n",
            "\n",
            "**In conclusion:** The lab report indicates inflammation (ESR), possibly past or low-level *Salmonella Typhi* exposure (Widal test), but no definitive diagnosis can be made from this report alone.  A physician needs to correlate these findings with the patient's clinical symptoms and medical history to determine the appropriate diagnosis and treatment.\n",
            "\n"
          ]
        }
      ]
    },
    {
      "cell_type": "code",
      "source": [],
      "metadata": {
        "id": "y2JYZfYfrn4L"
      },
      "execution_count": null,
      "outputs": []
    }
  ]
}