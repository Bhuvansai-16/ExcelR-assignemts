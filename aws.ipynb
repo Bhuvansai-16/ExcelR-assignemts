{
 "cells": [
  {
   "cell_type": "code",
   "execution_count": 1,
   "id": "efe35555-873d-4280-a2a4-3cac030db3d8",
   "metadata": {},
   "outputs": [
    {
     "name": "stdout",
     "output_type": "stream",
     "text": [
      "Collecting boto3Note: you may need to restart the kernel to use updated packages.\n",
      "\n",
      "  Downloading boto3-1.37.16-py3-none-any.whl.metadata (6.7 kB)\n",
      "Collecting botocore<1.38.0,>=1.37.16 (from boto3)\n",
      "  Downloading botocore-1.37.16-py3-none-any.whl.metadata (5.7 kB)\n",
      "Requirement already satisfied: jmespath<2.0.0,>=0.7.1 in c:\\users\\bhuvansai\\anaconda3\\lib\\site-packages (from boto3) (1.0.1)\n",
      "Collecting s3transfer<0.12.0,>=0.11.0 (from boto3)\n",
      "  Downloading s3transfer-0.11.4-py3-none-any.whl.metadata (1.7 kB)\n",
      "Requirement already satisfied: python-dateutil<3.0.0,>=2.1 in c:\\users\\bhuvansai\\anaconda3\\lib\\site-packages (from botocore<1.38.0,>=1.37.16->boto3) (2.9.0.post0)\n",
      "Requirement already satisfied: urllib3!=2.2.0,<3,>=1.25.4 in c:\\users\\bhuvansai\\anaconda3\\lib\\site-packages (from botocore<1.38.0,>=1.37.16->boto3) (2.2.3)\n",
      "Requirement already satisfied: six>=1.5 in c:\\users\\bhuvansai\\anaconda3\\lib\\site-packages (from python-dateutil<3.0.0,>=2.1->botocore<1.38.0,>=1.37.16->boto3) (1.16.0)\n",
      "Downloading boto3-1.37.16-py3-none-any.whl (139 kB)\n",
      "Downloading botocore-1.37.16-py3-none-any.whl (13.4 MB)\n",
      "   ---------------------------------------- 0.0/13.4 MB ? eta -:--:--\n",
      "   ------ --------------------------------- 2.1/13.4 MB 11.8 MB/s eta 0:00:01\n",
      "   ------------ --------------------------- 4.2/13.4 MB 11.0 MB/s eta 0:00:01\n",
      "   -------------------- ------------------- 6.8/13.4 MB 11.3 MB/s eta 0:00:01\n",
      "   ----------------------------- ---------- 10.0/13.4 MB 12.2 MB/s eta 0:00:01\n",
      "   ----------------------------------- ---- 12.1/13.4 MB 12.2 MB/s eta 0:00:01\n",
      "   ---------------------------------------  13.4/13.4 MB 10.9 MB/s eta 0:00:01\n",
      "   ---------------------------------------- 13.4/13.4 MB 9.2 MB/s eta 0:00:00\n",
      "Downloading s3transfer-0.11.4-py3-none-any.whl (84 kB)\n",
      "Installing collected packages: botocore, s3transfer, boto3\n",
      "  Attempting uninstall: botocore\n",
      "    Found existing installation: botocore 1.34.69\n",
      "    Uninstalling botocore-1.34.69:\n",
      "      Successfully uninstalled botocore-1.34.69\n",
      "Successfully installed boto3-1.37.16 botocore-1.37.16 s3transfer-0.11.4\n"
     ]
    },
    {
     "name": "stderr",
     "output_type": "stream",
     "text": [
      "ERROR: pip's dependency resolver does not currently take into account all the packages that are installed. This behaviour is the source of the following dependency conflicts.\n",
      "aiobotocore 2.12.3 requires botocore<1.34.70,>=1.34.41, but you have botocore 1.37.16 which is incompatible.\n"
     ]
    }
   ],
   "source": [
    "pip install boto3"
   ]
  },
  {
   "cell_type": "code",
   "execution_count": null,
   "id": "baefa59a-33af-4637-97b3-60e4a8f170ac",
   "metadata": {},
   "outputs": [],
   "source": [
    "pip install awscli"
   ]
  },
  {
   "cell_type": "code",
   "execution_count": null,
   "id": "7d51311a-a547-4cf6-87b2-e2adfb32b8dd",
   "metadata": {},
   "outputs": [],
   "source": []
  }
 ],
 "metadata": {
  "kernelspec": {
   "display_name": "Python 3 (ipykernel)",
   "language": "python",
   "name": "python3"
  },
  "language_info": {
   "codemirror_mode": {
    "name": "ipython",
    "version": 3
   },
   "file_extension": ".py",
   "mimetype": "text/x-python",
   "name": "python",
   "nbconvert_exporter": "python",
   "pygments_lexer": "ipython3",
   "version": "3.12.7"
  }
 },
 "nbformat": 4,
 "nbformat_minor": 5
}
